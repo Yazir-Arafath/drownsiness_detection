{
  "nbformat": 4,
  "nbformat_minor": 0,
  "metadata": {
    "colab": {
      "provenance": []
    },
    "kernelspec": {
      "name": "python3",
      "display_name": "Python 3"
    },
    "language_info": {
      "name": "python"
    }
  },
  "cells": [
    {
      "cell_type": "code",
      "execution_count": 3,
      "metadata": {
        "id": "wUHJ0TZ4vGy6"
      },
      "outputs": [],
      "source": [
        "from scipy.spatial import  distance as dist #to find dist of co-ordinates\n",
        "from imutils import face_utils #get the co-ordinates of different parts\n",
        "import imutils #resize\n",
        "import dlib #face detection & landmark on face\n",
        "import cv2 #frame acquit\n",
        "import winsound\n",
        "frequency = 2500\n",
        "duration = 1000"
      ]
    },
    {
      "cell_type": "code",
      "source": [
        "def eyeAspectRatio (eye):\n",
        "  #vertcal\n",
        "  A= dist.euclidean(eye[1],eye[5])\n",
        "  B= dist.euclidean(eye[2],eye[4])\n",
        "  #horizontal\n",
        "  C= dist.euclidean(eye[0],eye[3])\n",
        "  ear = (A+B) / (2.0*C)\n",
        "  return ear"
      ],
      "metadata": {
        "id": "TOusYwGRw9u2"
      },
      "execution_count": null,
      "outputs": []
    },
    {
      "cell_type": "code",
      "source": [
        "count=0\n",
        "earThresh= 0.3 #distance between vertical eye co-ordinates threshold\n",
        "earFrames= 48 # consecutive frames for eye closure\n",
        "shapePredictor = \"shape_predictor_68_landmark.dat\""
      ],
      "metadata": {
        "id": "6_G9SyLux4TF"
      },
      "execution_count": null,
      "outputs": []
    },
    {
      "cell_type": "code",
      "source": [
        "cam= cv2.VideoCapture(1)\n",
        "detector= dlib.get_frontal_face_detector()\n",
        "predictor= dlib.shape_predictor(shapePredictor)"
      ],
      "metadata": {
        "id": "QcXIVwZZygUE"
      },
      "execution_count": null,
      "outputs": []
    },
    {
      "cell_type": "code",
      "source": [
        "#get the co-ordinates of left and right eye\n",
        "(lStart,lEnd)= face_utils.FACIAL_LANDMARKS_IDXS[\"left_eye\"]\n",
        "(rStart,rEnd)= face_utils.FACIAL_LANDMARKS_IDXS[\"right_eye\"]"
      ],
      "metadata": {
        "id": "NEUsRDHSy9N9"
      },
      "execution_count": null,
      "outputs": []
    },
    {
      "cell_type": "code",
      "source": [
        "while True:\n",
        "  _,frame = cam.read() #read frames from camera\n",
        "  frames= imutils.resize(frame,width=450)  #resizing\n",
        "  gray=cv2.cvtcolor(frame,cv2.COLOUR_BGR2GRAY)  #colour 2 gray\n",
        "  rects = detector(gray,0)  #detect the face\n",
        "   \n",
        "  for rect in rects:\n",
        "    shape= predictor(gray,rect)\n",
        "    shape= face_utils.shape_to_np(shape)\n",
        "    \n",
        "    leftEye = shape[lStart:lEnd]\n",
        "    rightEye = shape[rStart:rEnd]\n",
        "    leftEAR = eyeAspectRatio(leftEye)\n",
        "    rightEAR = eyeAspectRatio(rightEye)\n",
        "\n",
        "    ear= (leftEAR+rightEAR)/2.0\n",
        "\n",
        "    leftEyeHull = cv2.convexHull(leftEye)\n",
        "    rightEyeHull = cv2.convexHull(rightEye)\n",
        "    cv2.drawContous(frame,[leftEyeHull],-1,(0,0,255),1)\n",
        "    cv2.drawContours(frame,[rightEyeHull],-1,(0,0,255),1)\n",
        "\n",
        "\n",
        "    if ear<earThresh:\n",
        "      count+=1\n",
        "      if count>= earFrames:\n",
        "        cv2.putText(frame,\"DROWSINESS_DETECTED\",(10,30),cv2.FONT_HERSHEY_SIMPLEX,0.7,(0,0,255),2)\n",
        "        winsound.Beep(frequency,duration)\n",
        "      else:\n",
        "        count = 0\n",
        "  cv2.imshow(\"Frame\",frame)\n",
        "  key= cv2.waitKey(1) & 0xFF\n",
        "  if key == ord(\"q\"):\n",
        "    break\n"
      ],
      "metadata": {
        "id": "e6OYxHTMy9Wj"
      },
      "execution_count": null,
      "outputs": []
    },
    {
      "cell_type": "code",
      "source": [
        "cam.release()\n",
        "cv2.destroyAllWindows()"
      ],
      "metadata": {
        "id": "llrossR35cch"
      },
      "execution_count": null,
      "outputs": []
    }
  ]
}